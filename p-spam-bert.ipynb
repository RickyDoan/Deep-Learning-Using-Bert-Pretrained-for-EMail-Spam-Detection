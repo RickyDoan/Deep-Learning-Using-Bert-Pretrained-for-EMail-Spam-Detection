{
 "cells": [
  {
   "cell_type": "code",
   "id": "initial_id",
   "metadata": {
    "collapsed": true,
    "ExecuteTime": {
     "end_time": "2025-01-07T12:01:41.635474Z",
     "start_time": "2025-01-07T12:01:41.617296Z"
    }
   },
   "source": [
    "import torch\n",
    "import numpy as np\n",
    "import torch.nn as nn\n",
    "import torch.optim as optim\n",
    "from openpyxl.styles.builtins import output\n",
    "from torch.nn import CrossEntropyLoss, BCELoss\n",
    "from torch.utils.data import DataLoader, TensorDataset\n",
    "from sklearn.metrics import accuracy_score, confusion_matrix\n",
    "import matplotlib.pyplot as plt\n",
    "from torchvision import datasets\n",
    "from torchvision.transforms import ToTensor\n",
    "import pandas as pd\n",
    "import seaborn as sns\n",
    "from sklearn.model_selection import train_test_split\n",
    "from sklearn.preprocessing import MinMaxScaler\n",
    "import torchvision\n",
    "import torchvision.transforms as transforms\n",
    "from transformers import BertTokenizer, BertModel\n",
    "\n",
    "df = pd.read_csv(\"spam.csv\")"
   ],
   "outputs": [],
   "execution_count": 70
  },
  {
   "metadata": {
    "ExecuteTime": {
     "end_time": "2025-01-07T12:01:41.650237Z",
     "start_time": "2025-01-07T12:01:41.645508Z"
    }
   },
   "cell_type": "code",
   "source": [
    "device = torch.device('cuda' if torch.cuda.is_available() else 'cpu')\n",
    "device"
   ],
   "id": "c28c20865e632c11",
   "outputs": [
    {
     "data": {
      "text/plain": [
       "device(type='cpu')"
      ]
     },
     "execution_count": 71,
     "metadata": {},
     "output_type": "execute_result"
    }
   ],
   "execution_count": 71
  },
  {
   "metadata": {
    "ExecuteTime": {
     "end_time": "2025-01-07T12:01:41.678597Z",
     "start_time": "2025-01-07T12:01:41.671956Z"
    }
   },
   "cell_type": "code",
   "source": [
    "print(df.shape)\n",
    "df.head()"
   ],
   "id": "12f1953db51d13dc",
   "outputs": [
    {
     "name": "stdout",
     "output_type": "stream",
     "text": [
      "(5572, 2)\n"
     ]
    },
    {
     "data": {
      "text/plain": [
       "  Category                                            Message\n",
       "0      ham  Go until jurong point, crazy.. Available only ...\n",
       "1      ham                      Ok lar... Joking wif u oni...\n",
       "2     spam  Free entry in 2 a wkly comp to win FA Cup fina...\n",
       "3      ham  U dun say so early hor... U c already then say...\n",
       "4      ham  Nah I don't think he goes to usf, he lives aro..."
      ],
      "text/html": [
       "<div>\n",
       "<style scoped>\n",
       "    .dataframe tbody tr th:only-of-type {\n",
       "        vertical-align: middle;\n",
       "    }\n",
       "\n",
       "    .dataframe tbody tr th {\n",
       "        vertical-align: top;\n",
       "    }\n",
       "\n",
       "    .dataframe thead th {\n",
       "        text-align: right;\n",
       "    }\n",
       "</style>\n",
       "<table border=\"1\" class=\"dataframe\">\n",
       "  <thead>\n",
       "    <tr style=\"text-align: right;\">\n",
       "      <th></th>\n",
       "      <th>Category</th>\n",
       "      <th>Message</th>\n",
       "    </tr>\n",
       "  </thead>\n",
       "  <tbody>\n",
       "    <tr>\n",
       "      <th>0</th>\n",
       "      <td>ham</td>\n",
       "      <td>Go until jurong point, crazy.. Available only ...</td>\n",
       "    </tr>\n",
       "    <tr>\n",
       "      <th>1</th>\n",
       "      <td>ham</td>\n",
       "      <td>Ok lar... Joking wif u oni...</td>\n",
       "    </tr>\n",
       "    <tr>\n",
       "      <th>2</th>\n",
       "      <td>spam</td>\n",
       "      <td>Free entry in 2 a wkly comp to win FA Cup fina...</td>\n",
       "    </tr>\n",
       "    <tr>\n",
       "      <th>3</th>\n",
       "      <td>ham</td>\n",
       "      <td>U dun say so early hor... U c already then say...</td>\n",
       "    </tr>\n",
       "    <tr>\n",
       "      <th>4</th>\n",
       "      <td>ham</td>\n",
       "      <td>Nah I don't think he goes to usf, he lives aro...</td>\n",
       "    </tr>\n",
       "  </tbody>\n",
       "</table>\n",
       "</div>"
      ]
     },
     "execution_count": 72,
     "metadata": {},
     "output_type": "execute_result"
    }
   ],
   "execution_count": 72
  },
  {
   "metadata": {
    "ExecuteTime": {
     "end_time": "2025-01-07T12:01:41.750829Z",
     "start_time": "2025-01-07T12:01:41.745142Z"
    }
   },
   "cell_type": "code",
   "source": "df['Category'].value_counts()",
   "id": "937e4fbdce16874e",
   "outputs": [
    {
     "data": {
      "text/plain": [
       "Category\n",
       "ham     4825\n",
       "spam     747\n",
       "Name: count, dtype: int64"
      ]
     },
     "execution_count": 73,
     "metadata": {},
     "output_type": "execute_result"
    }
   ],
   "execution_count": 73
  },
  {
   "metadata": {
    "ExecuteTime": {
     "end_time": "2025-01-07T12:01:41.842480Z",
     "start_time": "2025-01-07T12:01:41.834070Z"
    }
   },
   "cell_type": "code",
   "source": [
    "df['Category'] = df['Category'].map({'spam':1, 'ham':0})\n",
    "df['Category'].value_counts()"
   ],
   "id": "9ba1ca5c86045137",
   "outputs": [
    {
     "data": {
      "text/plain": [
       "Category\n",
       "0    4825\n",
       "1     747\n",
       "Name: count, dtype: int64"
      ]
     },
     "execution_count": 74,
     "metadata": {},
     "output_type": "execute_result"
    }
   ],
   "execution_count": 74
  },
  {
   "metadata": {
    "ExecuteTime": {
     "end_time": "2025-01-07T12:01:41.980551Z",
     "start_time": "2025-01-07T12:01:41.973788Z"
    }
   },
   "cell_type": "code",
   "source": "df.head()",
   "id": "be73c24a8dcba79e",
   "outputs": [
    {
     "data": {
      "text/plain": [
       "   Category                                            Message\n",
       "0         0  Go until jurong point, crazy.. Available only ...\n",
       "1         0                      Ok lar... Joking wif u oni...\n",
       "2         1  Free entry in 2 a wkly comp to win FA Cup fina...\n",
       "3         0  U dun say so early hor... U c already then say...\n",
       "4         0  Nah I don't think he goes to usf, he lives aro..."
      ],
      "text/html": [
       "<div>\n",
       "<style scoped>\n",
       "    .dataframe tbody tr th:only-of-type {\n",
       "        vertical-align: middle;\n",
       "    }\n",
       "\n",
       "    .dataframe tbody tr th {\n",
       "        vertical-align: top;\n",
       "    }\n",
       "\n",
       "    .dataframe thead th {\n",
       "        text-align: right;\n",
       "    }\n",
       "</style>\n",
       "<table border=\"1\" class=\"dataframe\">\n",
       "  <thead>\n",
       "    <tr style=\"text-align: right;\">\n",
       "      <th></th>\n",
       "      <th>Category</th>\n",
       "      <th>Message</th>\n",
       "    </tr>\n",
       "  </thead>\n",
       "  <tbody>\n",
       "    <tr>\n",
       "      <th>0</th>\n",
       "      <td>0</td>\n",
       "      <td>Go until jurong point, crazy.. Available only ...</td>\n",
       "    </tr>\n",
       "    <tr>\n",
       "      <th>1</th>\n",
       "      <td>0</td>\n",
       "      <td>Ok lar... Joking wif u oni...</td>\n",
       "    </tr>\n",
       "    <tr>\n",
       "      <th>2</th>\n",
       "      <td>1</td>\n",
       "      <td>Free entry in 2 a wkly comp to win FA Cup fina...</td>\n",
       "    </tr>\n",
       "    <tr>\n",
       "      <th>3</th>\n",
       "      <td>0</td>\n",
       "      <td>U dun say so early hor... U c already then say...</td>\n",
       "    </tr>\n",
       "    <tr>\n",
       "      <th>4</th>\n",
       "      <td>0</td>\n",
       "      <td>Nah I don't think he goes to usf, he lives aro...</td>\n",
       "    </tr>\n",
       "  </tbody>\n",
       "</table>\n",
       "</div>"
      ]
     },
     "execution_count": 75,
     "metadata": {},
     "output_type": "execute_result"
    }
   ],
   "execution_count": 75
  },
  {
   "metadata": {
    "ExecuteTime": {
     "end_time": "2025-01-07T12:01:42.080075Z",
     "start_time": "2025-01-07T12:01:42.076387Z"
    }
   },
   "cell_type": "code",
   "source": [
    "X = df['Message']\n",
    "y = df['Category']"
   ],
   "id": "b47085ada0055d43",
   "outputs": [],
   "execution_count": 76
  },
  {
   "metadata": {
    "ExecuteTime": {
     "end_time": "2025-01-07T12:01:42.154018Z",
     "start_time": "2025-01-07T12:01:42.148453Z"
    }
   },
   "cell_type": "code",
   "source": "X_train, X_test, y_train, y_test = train_test_split(X, y, test_size=0.2, random_state=42)",
   "id": "8d2e2b42c9a5d2b7",
   "outputs": [],
   "execution_count": 77
  },
  {
   "metadata": {
    "ExecuteTime": {
     "end_time": "2025-01-07T12:01:42.402408Z",
     "start_time": "2025-01-07T12:01:42.219259Z"
    }
   },
   "cell_type": "code",
   "source": [
    "def tokenize_function(texts, labels):\n",
    "    tokenizer = BertTokenizer.from_pretrained('bert-base-uncased')\n",
    "    encoded_dict = tokenizer(\n",
    "        texts,\n",
    "        max_length = 128,\n",
    "        padding = 'max_length',\n",
    "        truncation = True,\n",
    "        return_tensors = 'pt',\n",
    "    )\n",
    "    return encoded_dict['input_ids'], encoded_dict['attention_mask'], torch.tensor(labels)\n",
    "tokenize_function(['hello, may I help you with this?'], [1,0])"
   ],
   "id": "ae998961d936da6f",
   "outputs": [
    {
     "data": {
      "text/plain": [
       "(tensor([[ 101, 7592, 1010, 2089, 1045, 2393, 2017, 2007, 2023, 1029,  102,    0,\n",
       "             0,    0,    0,    0,    0,    0,    0,    0,    0,    0,    0,    0,\n",
       "             0,    0,    0,    0,    0,    0,    0,    0,    0,    0,    0,    0,\n",
       "             0,    0,    0,    0,    0,    0,    0,    0,    0,    0,    0,    0,\n",
       "             0,    0,    0,    0,    0,    0,    0,    0,    0,    0,    0,    0,\n",
       "             0,    0,    0,    0,    0,    0,    0,    0,    0,    0,    0,    0,\n",
       "             0,    0,    0,    0,    0,    0,    0,    0,    0,    0,    0,    0,\n",
       "             0,    0,    0,    0,    0,    0,    0,    0,    0,    0,    0,    0,\n",
       "             0,    0,    0,    0,    0,    0,    0,    0,    0,    0,    0,    0,\n",
       "             0,    0,    0,    0,    0,    0,    0,    0,    0,    0,    0,    0,\n",
       "             0,    0,    0,    0,    0,    0,    0,    0]]),\n",
       " tensor([[1, 1, 1, 1, 1, 1, 1, 1, 1, 1, 1, 0, 0, 0, 0, 0, 0, 0, 0, 0, 0, 0, 0, 0,\n",
       "          0, 0, 0, 0, 0, 0, 0, 0, 0, 0, 0, 0, 0, 0, 0, 0, 0, 0, 0, 0, 0, 0, 0, 0,\n",
       "          0, 0, 0, 0, 0, 0, 0, 0, 0, 0, 0, 0, 0, 0, 0, 0, 0, 0, 0, 0, 0, 0, 0, 0,\n",
       "          0, 0, 0, 0, 0, 0, 0, 0, 0, 0, 0, 0, 0, 0, 0, 0, 0, 0, 0, 0, 0, 0, 0, 0,\n",
       "          0, 0, 0, 0, 0, 0, 0, 0, 0, 0, 0, 0, 0, 0, 0, 0, 0, 0, 0, 0, 0, 0, 0, 0,\n",
       "          0, 0, 0, 0, 0, 0, 0, 0]]),\n",
       " tensor([1, 0]))"
      ]
     },
     "execution_count": 78,
     "metadata": {},
     "output_type": "execute_result"
    }
   ],
   "execution_count": 78
  },
  {
   "metadata": {
    "ExecuteTime": {
     "end_time": "2025-01-07T17:12:23.620102Z",
     "start_time": "2025-01-07T17:12:23.550584Z"
    }
   },
   "cell_type": "code",
   "source": "X_train.head().values.tolist()",
   "id": "8e190fccb9a00f8c",
   "outputs": [
    {
     "data": {
      "text/plain": [
       "['Reply to win £100 weekly! Where will the 2006 FIFA World Cup be held? Send STOP to 87239 to end service',\n",
       " 'Hello. Sort of out in town already. That . So dont rush home, I am eating nachos. Will let you know eta.',\n",
       " 'How come guoyang go n tell her? Then u told her?',\n",
       " 'Hey sathya till now we dint meet not even a single time then how can i saw the situation sathya.',\n",
       " 'Orange brings you ringtones from all time Chart Heroes, with a free hit each week! Go to Ringtones & Pics on wap. To stop receiving these tips reply STOP.']"
      ]
     },
     "execution_count": 105,
     "metadata": {},
     "output_type": "execute_result"
    }
   ],
   "execution_count": 105
  },
  {
   "metadata": {
    "ExecuteTime": {
     "end_time": "2025-01-07T12:01:44.907006Z",
     "start_time": "2025-01-07T12:01:42.514792Z"
    }
   },
   "cell_type": "code",
   "source": [
    "train_inputs_ids, train_attention_masks, train_labels = tokenize_function(X_train.values.tolist(), y_train.values.tolist())\n",
    "test_inputs_ids, test_attention_masks, test_labels = tokenize_function(X_test.values.tolist(), y_test.values.tolist())"
   ],
   "id": "2aec02df10f43fa6",
   "outputs": [],
   "execution_count": 80
  },
  {
   "metadata": {
    "ExecuteTime": {
     "end_time": "2025-01-07T12:01:44.927888Z",
     "start_time": "2025-01-07T12:01:44.925085Z"
    }
   },
   "cell_type": "code",
   "source": [
    "train_tensor = TensorDataset(train_inputs_ids, train_attention_masks, train_labels)\n",
    "test_tensor = TensorDataset(test_inputs_ids, test_attention_masks, test_labels)"
   ],
   "id": "ad8fbfd9b8a1350c",
   "outputs": [],
   "execution_count": 81
  },
  {
   "metadata": {
    "ExecuteTime": {
     "end_time": "2025-01-07T12:01:47.150037Z",
     "start_time": "2025-01-07T12:01:47.146040Z"
    }
   },
   "cell_type": "code",
   "source": [
    "train_loader = DataLoader(train_tensor, batch_size=64, shuffle=True)\n",
    "val_loader = DataLoader(test_tensor, batch_size=64, shuffle=False)"
   ],
   "id": "ec446440489a8e97",
   "outputs": [],
   "execution_count": 82
  },
  {
   "metadata": {
    "ExecuteTime": {
     "end_time": "2025-01-07T12:01:51.893434Z",
     "start_time": "2025-01-07T12:01:50.942946Z"
    }
   },
   "cell_type": "code",
   "source": [
    "bert_model = BertModel.from_pretrained('bert-base-uncased')\n",
    "bert_model.config.hidden_size"
   ],
   "id": "2c9d3106789d9345",
   "outputs": [
    {
     "data": {
      "text/plain": [
       "768"
      ]
     },
     "execution_count": 83,
     "metadata": {},
     "output_type": "execute_result"
    }
   ],
   "execution_count": 83
  },
  {
   "metadata": {},
   "cell_type": "markdown",
   "source": "### Define training model",
   "id": "e9d8aef8a4e46fc"
  },
  {
   "metadata": {
    "ExecuteTime": {
     "end_time": "2025-01-07T12:01:55.055824Z",
     "start_time": "2025-01-07T12:01:55.050666Z"
    }
   },
   "cell_type": "code",
   "source": [
    "class BertClassifier(nn.Module):\n",
    "    def __init__(self):\n",
    "        super().__init__()\n",
    "        self.bert = BertModel.from_pretrained('bert-base-uncased')\n",
    "        for param in self.bert.parameters():\n",
    "            param.requires_grad = False\n",
    "\n",
    "        self.classifier = nn.Sequential(\n",
    "            nn.Linear(768, 256),\n",
    "            nn.ReLU(),\n",
    "            nn.Dropout(0.3),\n",
    "            nn.Linear(256, 1),\n",
    "            nn.Sigmoid()\n",
    "        )\n",
    "    def forward(self, input_ids, attention_mask):\n",
    "        bert_output = self.bert(input_ids, attention_mask)\n",
    "        sentence_embedding = bert_output.last_hidden_state[:,0,:]\n",
    "        return self.classifier(sentence_embedding)\n"
   ],
   "id": "89567c95abfa613a",
   "outputs": [],
   "execution_count": 84
  },
  {
   "metadata": {
    "ExecuteTime": {
     "end_time": "2025-01-07T12:01:58.238075Z",
     "start_time": "2025-01-07T12:01:57.931400Z"
    }
   },
   "cell_type": "code",
   "source": [
    "model = BertClassifier().to(device)\n",
    "criterion = nn.BCELoss()\n",
    "optimizer = optim.Adam(model.parameters(), lr=0.001)"
   ],
   "id": "1f78a5f30c8621c3",
   "outputs": [],
   "execution_count": 85
  },
  {
   "metadata": {
    "ExecuteTime": {
     "end_time": "2025-01-07T12:20:59.855530Z",
     "start_time": "2025-01-07T12:05:30.966766Z"
    }
   },
   "cell_type": "code",
   "source": [
    "model.train()\n",
    "epochs = 2\n",
    "for epoch in range(epochs):\n",
    "    total_loss = 0\n",
    "    for batch_idx, (input_ids, attention_mask, labels) in enumerate(train_loader):\n",
    "        input_ids = input_ids.to(device)\n",
    "        attention_mask = attention_mask.to(device)\n",
    "        labels = labels.to(device, dtype=torch.float32)\n",
    "\n",
    "        optimizer.zero_grad()\n",
    "        outputs = model(input_ids, attention_mask).squeeze()\n",
    "        loss = criterion(outputs, labels)\n",
    "        loss.backward()\n",
    "        optimizer.step()\n",
    "        total_loss += loss.item()\n",
    "        print(f'Batch: {batch_idx+1}, epoch : {epoch+1}, loss :{loss.item():.4f}')\n",
    "\n",
    "    print(f'Epoch {epoch+1}/{epochs} , total loss : {total_loss/len(train_loader)}')"
   ],
   "id": "9c7d8627c5fefaec",
   "outputs": [
    {
     "name": "stdout",
     "output_type": "stream",
     "text": [
      "Batch: 1, epoch : 1, loss :0.3716\n",
      "Batch: 2, epoch : 1, loss :0.3762\n",
      "Batch: 3, epoch : 1, loss :0.2660\n",
      "Batch: 4, epoch : 1, loss :0.2616\n",
      "Batch: 5, epoch : 1, loss :0.4247\n",
      "Batch: 6, epoch : 1, loss :0.3286\n",
      "Batch: 7, epoch : 1, loss :0.2416\n",
      "Batch: 8, epoch : 1, loss :0.2449\n",
      "Batch: 9, epoch : 1, loss :0.2108\n",
      "Batch: 10, epoch : 1, loss :0.2330\n",
      "Batch: 11, epoch : 1, loss :0.1832\n",
      "Batch: 12, epoch : 1, loss :0.1641\n",
      "Batch: 13, epoch : 1, loss :0.1727\n",
      "Batch: 14, epoch : 1, loss :0.1699\n",
      "Batch: 15, epoch : 1, loss :0.1124\n",
      "Batch: 16, epoch : 1, loss :0.1108\n",
      "Batch: 17, epoch : 1, loss :0.0901\n",
      "Batch: 18, epoch : 1, loss :0.1578\n",
      "Batch: 19, epoch : 1, loss :0.1497\n",
      "Batch: 20, epoch : 1, loss :0.1649\n",
      "Batch: 21, epoch : 1, loss :0.1988\n",
      "Batch: 22, epoch : 1, loss :0.0656\n",
      "Batch: 23, epoch : 1, loss :0.0398\n",
      "Batch: 24, epoch : 1, loss :0.1034\n",
      "Batch: 25, epoch : 1, loss :0.1579\n",
      "Batch: 26, epoch : 1, loss :0.1451\n",
      "Batch: 27, epoch : 1, loss :0.1155\n",
      "Batch: 28, epoch : 1, loss :0.0773\n",
      "Batch: 29, epoch : 1, loss :0.1183\n",
      "Batch: 30, epoch : 1, loss :0.1984\n",
      "Batch: 31, epoch : 1, loss :0.0907\n",
      "Batch: 32, epoch : 1, loss :0.0927\n",
      "Batch: 33, epoch : 1, loss :0.0404\n",
      "Batch: 34, epoch : 1, loss :0.0739\n",
      "Batch: 35, epoch : 1, loss :0.0924\n",
      "Batch: 36, epoch : 1, loss :0.0637\n",
      "Batch: 37, epoch : 1, loss :0.0361\n",
      "Batch: 38, epoch : 1, loss :0.0402\n",
      "Batch: 39, epoch : 1, loss :0.1263\n",
      "Batch: 40, epoch : 1, loss :0.0959\n",
      "Batch: 41, epoch : 1, loss :0.1709\n",
      "Batch: 42, epoch : 1, loss :0.1071\n",
      "Batch: 43, epoch : 1, loss :0.0769\n",
      "Batch: 44, epoch : 1, loss :0.0148\n",
      "Batch: 45, epoch : 1, loss :0.0609\n",
      "Batch: 46, epoch : 1, loss :0.0866\n",
      "Batch: 47, epoch : 1, loss :0.0539\n",
      "Batch: 48, epoch : 1, loss :0.0801\n",
      "Batch: 49, epoch : 1, loss :0.0571\n",
      "Batch: 50, epoch : 1, loss :0.0352\n",
      "Batch: 51, epoch : 1, loss :0.1208\n",
      "Batch: 52, epoch : 1, loss :0.0489\n",
      "Batch: 53, epoch : 1, loss :0.0347\n",
      "Batch: 54, epoch : 1, loss :0.0227\n",
      "Batch: 55, epoch : 1, loss :0.0260\n",
      "Batch: 56, epoch : 1, loss :0.0840\n",
      "Batch: 57, epoch : 1, loss :0.0569\n",
      "Batch: 58, epoch : 1, loss :0.0765\n",
      "Batch: 59, epoch : 1, loss :0.1868\n",
      "Batch: 60, epoch : 1, loss :0.0602\n",
      "Batch: 61, epoch : 1, loss :0.1018\n",
      "Batch: 62, epoch : 1, loss :0.0370\n",
      "Batch: 63, epoch : 1, loss :0.0697\n",
      "Batch: 64, epoch : 1, loss :0.0924\n",
      "Batch: 65, epoch : 1, loss :0.0254\n",
      "Batch: 66, epoch : 1, loss :0.0264\n",
      "Batch: 67, epoch : 1, loss :0.0997\n",
      "Batch: 68, epoch : 1, loss :0.0701\n",
      "Batch: 69, epoch : 1, loss :0.0715\n",
      "Batch: 70, epoch : 1, loss :0.1501\n",
      "Epoch 1/2 , total loss : 0.12303163994635855\n",
      "Batch: 1, epoch : 2, loss :0.0355\n",
      "Batch: 2, epoch : 2, loss :0.0878\n",
      "Batch: 3, epoch : 2, loss :0.1226\n",
      "Batch: 4, epoch : 2, loss :0.0539\n",
      "Batch: 5, epoch : 2, loss :0.0211\n",
      "Batch: 6, epoch : 2, loss :0.0668\n",
      "Batch: 7, epoch : 2, loss :0.0733\n",
      "Batch: 8, epoch : 2, loss :0.1100\n",
      "Batch: 9, epoch : 2, loss :0.0161\n",
      "Batch: 10, epoch : 2, loss :0.0361\n",
      "Batch: 11, epoch : 2, loss :0.0265\n",
      "Batch: 12, epoch : 2, loss :0.1752\n",
      "Batch: 13, epoch : 2, loss :0.0385\n",
      "Batch: 14, epoch : 2, loss :0.0736\n",
      "Batch: 15, epoch : 2, loss :0.0272\n",
      "Batch: 16, epoch : 2, loss :0.0805\n",
      "Batch: 17, epoch : 2, loss :0.0186\n",
      "Batch: 18, epoch : 2, loss :0.0854\n",
      "Batch: 19, epoch : 2, loss :0.0410\n",
      "Batch: 20, epoch : 2, loss :0.0741\n",
      "Batch: 21, epoch : 2, loss :0.0204\n",
      "Batch: 22, epoch : 2, loss :0.0297\n",
      "Batch: 23, epoch : 2, loss :0.0186\n",
      "Batch: 24, epoch : 2, loss :0.0570\n",
      "Batch: 25, epoch : 2, loss :0.0398\n",
      "Batch: 26, epoch : 2, loss :0.0192\n",
      "Batch: 27, epoch : 2, loss :0.0185\n",
      "Batch: 28, epoch : 2, loss :0.0228\n",
      "Batch: 29, epoch : 2, loss :0.0715\n",
      "Batch: 30, epoch : 2, loss :0.0228\n",
      "Batch: 31, epoch : 2, loss :0.1982\n",
      "Batch: 32, epoch : 2, loss :0.0207\n",
      "Batch: 33, epoch : 2, loss :0.0567\n",
      "Batch: 34, epoch : 2, loss :0.0346\n",
      "Batch: 35, epoch : 2, loss :0.0681\n",
      "Batch: 36, epoch : 2, loss :0.0532\n",
      "Batch: 37, epoch : 2, loss :0.0498\n",
      "Batch: 38, epoch : 2, loss :0.0751\n",
      "Batch: 39, epoch : 2, loss :0.0732\n",
      "Batch: 40, epoch : 2, loss :0.0355\n",
      "Batch: 41, epoch : 2, loss :0.1080\n",
      "Batch: 42, epoch : 2, loss :0.0482\n",
      "Batch: 43, epoch : 2, loss :0.0196\n",
      "Batch: 44, epoch : 2, loss :0.0265\n",
      "Batch: 45, epoch : 2, loss :0.0424\n",
      "Batch: 46, epoch : 2, loss :0.0112\n",
      "Batch: 47, epoch : 2, loss :0.0147\n",
      "Batch: 48, epoch : 2, loss :0.0081\n",
      "Batch: 49, epoch : 2, loss :0.0259\n",
      "Batch: 50, epoch : 2, loss :0.0246\n",
      "Batch: 51, epoch : 2, loss :0.0741\n",
      "Batch: 52, epoch : 2, loss :0.1487\n",
      "Batch: 53, epoch : 2, loss :0.0189\n",
      "Batch: 54, epoch : 2, loss :0.0153\n",
      "Batch: 55, epoch : 2, loss :0.1731\n",
      "Batch: 56, epoch : 2, loss :0.0851\n",
      "Batch: 57, epoch : 2, loss :0.0074\n",
      "Batch: 58, epoch : 2, loss :0.0140\n",
      "Batch: 59, epoch : 2, loss :0.0111\n",
      "Batch: 60, epoch : 2, loss :0.0311\n",
      "Batch: 61, epoch : 2, loss :0.0219\n",
      "Batch: 62, epoch : 2, loss :0.0600\n",
      "Batch: 63, epoch : 2, loss :0.0171\n",
      "Batch: 64, epoch : 2, loss :0.0760\n",
      "Batch: 65, epoch : 2, loss :0.0691\n",
      "Batch: 66, epoch : 2, loss :0.1086\n",
      "Batch: 67, epoch : 2, loss :0.0266\n",
      "Batch: 68, epoch : 2, loss :0.1579\n",
      "Batch: 69, epoch : 2, loss :0.0430\n",
      "Batch: 70, epoch : 2, loss :0.0372\n",
      "Epoch 2/2 , total loss : 0.05392493004910648\n"
     ]
    }
   ],
   "execution_count": 89
  },
  {
   "metadata": {
    "ExecuteTime": {
     "end_time": "2025-01-07T12:38:03.306046Z",
     "start_time": "2025-01-07T12:36:32.652978Z"
    }
   },
   "cell_type": "code",
   "source": [
    "model.eval()\n",
    "with torch.no_grad():\n",
    "    correct = 0\n",
    "    for input_ids, attention_mask, labels in val_loader:\n",
    "        input_ids = input_ids.to(device)\n",
    "        attention_mask = attention_mask.to(device)\n",
    "        labels = labels.to(device, dtype=torch.float32)\n",
    "\n",
    "        outputs = model(input_ids, attention_mask).squeeze()\n",
    "        pred = (outputs > 0.5).float()\n",
    "        correct += torch.sum(pred == labels)\n",
    "\n",
    "accuracy = correct *100 /len(test_tensor)\n",
    "print(f'Accuracy : {accuracy:.4f}')"
   ],
   "id": "77da424e1c0b61be",
   "outputs": [
    {
     "name": "stdout",
     "output_type": "stream",
     "text": [
      "Accuracy : 98.2960\n"
     ]
    }
   ],
   "execution_count": 94
  },
  {
   "metadata": {
    "ExecuteTime": {
     "end_time": "2025-01-07T12:43:48.961296Z",
     "start_time": "2025-01-07T12:43:48.956892Z"
    }
   },
   "cell_type": "code",
   "source": "print(outputs)",
   "id": "f40b9d90796ba66",
   "outputs": [
    {
     "name": "stdout",
     "output_type": "stream",
     "text": [
      "tensor([1.6059e-03, 2.1905e-02, 1.0662e-02, 9.9504e-01, 4.5692e-05, 3.0903e-03,\n",
      "        9.7651e-01, 2.9923e-04, 3.3844e-04, 2.6123e-03, 2.5721e-04, 6.6899e-04,\n",
      "        1.9802e-02, 1.1549e-05, 9.8920e-01, 4.8912e-04, 6.9856e-04, 9.9554e-01,\n",
      "        4.0966e-04, 9.5337e-01, 4.3740e-05, 2.6031e-04, 1.2137e-05, 7.0402e-07,\n",
      "        4.6834e-04, 1.5824e-03, 5.2284e-04])\n"
     ]
    }
   ],
   "execution_count": 95
  },
  {
   "metadata": {
    "ExecuteTime": {
     "end_time": "2025-01-07T12:44:51.193064Z",
     "start_time": "2025-01-07T12:44:49.050554Z"
    }
   },
   "cell_type": "code",
   "source": "print(model(input_ids, attention_mask))",
   "id": "4be6d4d1bd8802b5",
   "outputs": [
    {
     "name": "stdout",
     "output_type": "stream",
     "text": [
      "tensor([[1.6059e-03],\n",
      "        [2.1905e-02],\n",
      "        [1.0662e-02],\n",
      "        [9.9504e-01],\n",
      "        [4.5692e-05],\n",
      "        [3.0903e-03],\n",
      "        [9.7651e-01],\n",
      "        [2.9923e-04],\n",
      "        [3.3844e-04],\n",
      "        [2.6123e-03],\n",
      "        [2.5721e-04],\n",
      "        [6.6899e-04],\n",
      "        [1.9802e-02],\n",
      "        [1.1549e-05],\n",
      "        [9.8920e-01],\n",
      "        [4.8912e-04],\n",
      "        [6.9856e-04],\n",
      "        [9.9554e-01],\n",
      "        [4.0966e-04],\n",
      "        [9.5337e-01],\n",
      "        [4.3740e-05],\n",
      "        [2.6031e-04],\n",
      "        [1.2137e-05],\n",
      "        [7.0402e-07],\n",
      "        [4.6834e-04],\n",
      "        [1.5824e-03],\n",
      "        [5.2284e-04]], grad_fn=<SigmoidBackward0>)\n"
     ]
    }
   ],
   "execution_count": 98
  },
  {
   "metadata": {
    "ExecuteTime": {
     "end_time": "2025-01-07T12:55:34.493863Z",
     "start_time": "2025-01-07T12:55:34.223802Z"
    }
   },
   "cell_type": "code",
   "source": [
    "def get_text_detection(model, text):\n",
    "    tokenizer = BertTokenizer.from_pretrained('bert-base-uncased')\n",
    "    encode = tokenizer(\n",
    "        text,\n",
    "        max_length=128,\n",
    "        padding='max_length',\n",
    "        truncation=True,\n",
    "        return_tensors='pt',\n",
    "    )\n",
    "    model.eval()\n",
    "    input_ids = encode['input_ids'].to(device)\n",
    "    attention_mask = encode['attention_mask'].to(device)\n",
    "    with torch.no_grad():\n",
    "        outputs = model(input_ids, attention_mask).squeeze()\n",
    "        pred = (outputs > 0.5).float().item()\n",
    "        if pred == 0:\n",
    "            return 'ham'\n",
    "        else:\n",
    "            return 'spam'\n",
    "\n",
    "get_text_detection(model,\"hello, how are you?\")"
   ],
   "id": "4385d8610796968e",
   "outputs": [
    {
     "data": {
      "text/plain": [
       "'ham'"
      ]
     },
     "execution_count": 104,
     "metadata": {},
     "output_type": "execute_result"
    }
   ],
   "execution_count": 104
  }
 ],
 "metadata": {
  "kernelspec": {
   "display_name": "Python 3",
   "language": "python",
   "name": "python3"
  },
  "language_info": {
   "codemirror_mode": {
    "name": "ipython",
    "version": 2
   },
   "file_extension": ".py",
   "mimetype": "text/x-python",
   "name": "python",
   "nbconvert_exporter": "python",
   "pygments_lexer": "ipython2",
   "version": "2.7.6"
  }
 },
 "nbformat": 4,
 "nbformat_minor": 5
}
